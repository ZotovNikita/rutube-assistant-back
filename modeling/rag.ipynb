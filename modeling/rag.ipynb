{
 "cells": [
  {
   "cell_type": "code",
   "execution_count": 1,
   "metadata": {},
   "outputs": [],
   "source": [
    "import pandas as pd\n",
    "import warnings\n",
    "\n",
    "warnings.filterwarnings('ignore')"
   ]
  },
  {
   "cell_type": "code",
   "execution_count": 2,
   "metadata": {},
   "outputs": [
    {
     "data": {
      "text/html": [
       "<div>\n",
       "<style scoped>\n",
       "    .dataframe tbody tr th:only-of-type {\n",
       "        vertical-align: middle;\n",
       "    }\n",
       "\n",
       "    .dataframe tbody tr th {\n",
       "        vertical-align: top;\n",
       "    }\n",
       "\n",
       "    .dataframe thead th {\n",
       "        text-align: right;\n",
       "    }\n",
       "</style>\n",
       "<table border=\"1\" class=\"dataframe\">\n",
       "  <thead>\n",
       "    <tr style=\"text-align: right;\">\n",
       "      <th></th>\n",
       "      <th>Тема</th>\n",
       "      <th>Вопрос из БЗ</th>\n",
       "      <th>Ответ из БЗ</th>\n",
       "      <th>Классификатор 1 уровня</th>\n",
       "      <th>Классификатор 2 уровня</th>\n",
       "    </tr>\n",
       "  </thead>\n",
       "  <tbody>\n",
       "    <tr>\n",
       "      <th>0</th>\n",
       "      <td>Что нельзя публиковать на RUTUBE</td>\n",
       "      <td>Что нельзя публиковать на RUTUBE?</td>\n",
       "      <td>Чужой контент без разрешения автора или правоо...</td>\n",
       "      <td>МОДЕРАЦИЯ</td>\n",
       "      <td>Отклонение/блокировка видео</td>\n",
       "    </tr>\n",
       "    <tr>\n",
       "      <th>1</th>\n",
       "      <td>Почему могут отключить монетизацию на видео и ...</td>\n",
       "      <td>Почему могут отключить монетизацию из-за автор...</td>\n",
       "      <td>Монетизация может отключиться, если на вашем к...</td>\n",
       "      <td>МОНЕТИЗАЦИЯ</td>\n",
       "      <td>Отключение/подключение монетизации</td>\n",
       "    </tr>\n",
       "    <tr>\n",
       "      <th>2</th>\n",
       "      <td>Почему могут отключить монетизацию на видео и ...</td>\n",
       "      <td>Почему могут отключить монетизацию из-за искус...</td>\n",
       "      <td>Монетизация на RUTUBE зависит в том числе от к...</td>\n",
       "      <td>МОНЕТИЗАЦИЯ</td>\n",
       "      <td>Отключение/подключение монетизации</td>\n",
       "    </tr>\n",
       "    <tr>\n",
       "      <th>3</th>\n",
       "      <td>Почему могут отключить монетизацию на видео и ...</td>\n",
       "      <td>Для каких статусов доступна монетизация, и поч...</td>\n",
       "      <td>Монетизацию на RUTUBE можно подключить, если в...</td>\n",
       "      <td>МОНЕТИЗАЦИЯ</td>\n",
       "      <td>Отключение/подключение монетизации</td>\n",
       "    </tr>\n",
       "    <tr>\n",
       "      <th>4</th>\n",
       "      <td>Авторское право</td>\n",
       "      <td>Какой контент можно использовать для монетизац...</td>\n",
       "      <td>То, что вы создали сами: видео, которое вы сня...</td>\n",
       "      <td>МОНЕТИЗАЦИЯ</td>\n",
       "      <td>Отключение/подключение монетизации</td>\n",
       "    </tr>\n",
       "  </tbody>\n",
       "</table>\n",
       "</div>"
      ],
      "text/plain": [
       "                                                Тема  \\\n",
       "0                   Что нельзя публиковать на RUTUBE   \n",
       "1  Почему могут отключить монетизацию на видео и ...   \n",
       "2  Почему могут отключить монетизацию на видео и ...   \n",
       "3  Почему могут отключить монетизацию на видео и ...   \n",
       "4                                    Авторское право   \n",
       "\n",
       "                                        Вопрос из БЗ  \\\n",
       "0                  Что нельзя публиковать на RUTUBE?   \n",
       "1  Почему могут отключить монетизацию из-за автор...   \n",
       "2  Почему могут отключить монетизацию из-за искус...   \n",
       "3  Для каких статусов доступна монетизация, и поч...   \n",
       "4  Какой контент можно использовать для монетизац...   \n",
       "\n",
       "                                         Ответ из БЗ Классификатор 1 уровня  \\\n",
       "0  Чужой контент без разрешения автора или правоо...              МОДЕРАЦИЯ   \n",
       "1  Монетизация может отключиться, если на вашем к...            МОНЕТИЗАЦИЯ   \n",
       "2  Монетизация на RUTUBE зависит в том числе от к...            МОНЕТИЗАЦИЯ   \n",
       "3  Монетизацию на RUTUBE можно подключить, если в...            МОНЕТИЗАЦИЯ   \n",
       "4  То, что вы создали сами: видео, которое вы сня...            МОНЕТИЗАЦИЯ   \n",
       "\n",
       "               Классификатор 2 уровня  \n",
       "0         Отклонение/блокировка видео  \n",
       "1  Отключение/подключение монетизации  \n",
       "2  Отключение/подключение монетизации  \n",
       "3  Отключение/подключение монетизации  \n",
       "4  Отключение/подключение монетизации  "
      ]
     },
     "execution_count": 2,
     "metadata": {},
     "output_type": "execute_result"
    }
   ],
   "source": [
    "faq = pd.read_excel(\"../data/01_База_знаний.xlsx\")\n",
    "faq.head()"
   ]
  },
  {
   "cell_type": "code",
   "execution_count": 3,
   "metadata": {},
   "outputs": [
    {
     "data": {
      "text/html": [
       "<div>\n",
       "<style scoped>\n",
       "    .dataframe tbody tr th:only-of-type {\n",
       "        vertical-align: middle;\n",
       "    }\n",
       "\n",
       "    .dataframe tbody tr th {\n",
       "        vertical-align: top;\n",
       "    }\n",
       "\n",
       "    .dataframe thead th {\n",
       "        text-align: right;\n",
       "    }\n",
       "</style>\n",
       "<table border=\"1\" class=\"dataframe\">\n",
       "  <thead>\n",
       "    <tr style=\"text-align: right;\">\n",
       "      <th></th>\n",
       "      <th>Вопрос из БЗ</th>\n",
       "      <th>Ответ из БЗ</th>\n",
       "    </tr>\n",
       "  </thead>\n",
       "  <tbody>\n",
       "    <tr>\n",
       "      <th>0</th>\n",
       "      <td>Что нельзя публиковать на RUTUBE?</td>\n",
       "      <td>Чужой контент без разрешения автора или правоо...</td>\n",
       "    </tr>\n",
       "    <tr>\n",
       "      <th>1</th>\n",
       "      <td>Почему могут отключить монетизацию из-за автор...</td>\n",
       "      <td>Монетизация может отключиться, если на вашем к...</td>\n",
       "    </tr>\n",
       "    <tr>\n",
       "      <th>2</th>\n",
       "      <td>Почему могут отключить монетизацию из-за искус...</td>\n",
       "      <td>Монетизация на RUTUBE зависит в том числе от к...</td>\n",
       "    </tr>\n",
       "    <tr>\n",
       "      <th>3</th>\n",
       "      <td>Для каких статусов доступна монетизация, и поч...</td>\n",
       "      <td>Монетизацию на RUTUBE можно подключить, если в...</td>\n",
       "    </tr>\n",
       "    <tr>\n",
       "      <th>4</th>\n",
       "      <td>Какой контент можно использовать для монетизац...</td>\n",
       "      <td>То, что вы создали сами: видео, которое вы сня...</td>\n",
       "    </tr>\n",
       "  </tbody>\n",
       "</table>\n",
       "</div>"
      ],
      "text/plain": [
       "                                        Вопрос из БЗ  \\\n",
       "0                  Что нельзя публиковать на RUTUBE?   \n",
       "1  Почему могут отключить монетизацию из-за автор...   \n",
       "2  Почему могут отключить монетизацию из-за искус...   \n",
       "3  Для каких статусов доступна монетизация, и поч...   \n",
       "4  Какой контент можно использовать для монетизац...   \n",
       "\n",
       "                                         Ответ из БЗ  \n",
       "0  Чужой контент без разрешения автора или правоо...  \n",
       "1  Монетизация может отключиться, если на вашем к...  \n",
       "2  Монетизация на RUTUBE зависит в том числе от к...  \n",
       "3  Монетизацию на RUTUBE можно подключить, если в...  \n",
       "4  То, что вы создали сами: видео, которое вы сня...  "
      ]
     },
     "execution_count": 3,
     "metadata": {},
     "output_type": "execute_result"
    }
   ],
   "source": [
    "faq = faq.drop(['Тема', 'Классификатор 1 уровня', 'Классификатор 2 уровня'], axis=1)\n",
    "faq.head()"
   ]
  },
  {
   "cell_type": "code",
   "execution_count": 4,
   "metadata": {},
   "outputs": [],
   "source": [
    "faq.to_csv('../data/knowledge_base.csv', index=False, encoding='utf-8')"
   ]
  },
  {
   "cell_type": "code",
   "execution_count": 5,
   "metadata": {},
   "outputs": [
    {
     "data": {
      "text/plain": [
       "True"
      ]
     },
     "execution_count": 5,
     "metadata": {},
     "output_type": "execute_result"
    }
   ],
   "source": [
    "import torch\n",
    "\n",
    "torch.cuda.is_available()"
   ]
  },
  {
   "cell_type": "code",
   "execution_count": 6,
   "metadata": {},
   "outputs": [],
   "source": [
    "from langchain_community.document_loaders import CSVLoader\n",
    "from langchain_huggingface import HuggingFaceEmbeddings"
   ]
  },
  {
   "cell_type": "code",
   "execution_count": 7,
   "metadata": {},
   "outputs": [],
   "source": [
    "file_path = '../data/knowledge_base.csv'\n",
    "\n",
    "embeddings = HuggingFaceEmbeddings(model_name='deepvk/USER-bge-m3', cache_folder='../cache/embedding/')"
   ]
  },
  {
   "cell_type": "code",
   "execution_count": null,
   "metadata": {},
   "outputs": [],
   "source": [
    "raw_documents = CSVLoader(file_path, encoding='utf-8').load()"
   ]
  },
  {
   "cell_type": "code",
   "execution_count": null,
   "metadata": {},
   "outputs": [],
   "source": [
    "raw_documents"
   ]
  },
  {
   "cell_type": "code",
   "execution_count": null,
   "metadata": {},
   "outputs": [],
   "source": [
    "from langchain_community.vectorstores import FAISS"
   ]
  },
  {
   "cell_type": "code",
   "execution_count": null,
   "metadata": {},
   "outputs": [],
   "source": [
    "db = FAISS.from_documents(raw_documents, embeddings)"
   ]
  },
  {
   "cell_type": "code",
   "execution_count": null,
   "metadata": {},
   "outputs": [],
   "source": [
    "db.save_local('../cache/db/faiss_nikita/', 'faiss_nikita.db')"
   ]
  },
  {
   "cell_type": "code",
   "execution_count": null,
   "metadata": {},
   "outputs": [],
   "source": [
    "db = FAISS.load_local(\n",
    "    folder_path='../cache/db/faiss_nikita/',\n",
    "    embeddings=embeddings,\n",
    "    index_name='faiss_nikita.db',\n",
    "    allow_dangerous_deserialization=True,\n",
    ")"
   ]
  },
  {
   "cell_type": "code",
   "execution_count": null,
   "metadata": {},
   "outputs": [],
   "source": [
    "test_retriever = db.as_retriever(\n",
    "    # search_type='mmr',\n",
    "    search_type='similarity',\n",
    "    search_kwargs={\n",
    "        'k': 3,\n",
    "        # 'fetch_k': 5,\n",
    "    }\n",
    ")"
   ]
  },
  {
   "cell_type": "code",
   "execution_count": null,
   "metadata": {},
   "outputs": [],
   "source": [
    "from langchain_community.retrievers import BM25Retriever\n",
    "\n",
    "bm25_retriever = BM25Retriever.from_documents(raw_documents, k=1)"
   ]
  },
  {
   "cell_type": "code",
   "execution_count": null,
   "metadata": {},
   "outputs": [],
   "source": [
    "from joblib import dump, load\n",
    "\n",
    "dump(bm25_retriever, '../cache/bm25.pkl')"
   ]
  },
  {
   "cell_type": "code",
   "execution_count": null,
   "metadata": {},
   "outputs": [],
   "source": [
    "bm25_retriever: BM25Retriever = load('../cache/bm25.pkl')"
   ]
  },
  {
   "cell_type": "code",
   "execution_count": null,
   "metadata": {},
   "outputs": [
    {
     "data": {
      "text/plain": [
       "BM25Retriever(vectorizer=<rank_bm25.BM25Okapi object at 0x000001B539929A50>, k=1)"
      ]
     },
     "metadata": {},
     "output_type": "display_data"
    }
   ],
   "source": [
    "bm25_retriever"
   ]
  },
  {
   "cell_type": "code",
   "execution_count": null,
   "metadata": {},
   "outputs": [],
   "source": [
    "from langchain.retrievers import EnsembleRetriever"
   ]
  },
  {
   "cell_type": "code",
   "execution_count": null,
   "metadata": {},
   "outputs": [],
   "source": [
    "ensemble_retriever = EnsembleRetriever(\n",
    "    retrievers=[test_retriever, bm25_retriever],\n",
    "    weights=[0.9, 0.1],\n",
    ")"
   ]
  },
  {
   "cell_type": "code",
   "execution_count": null,
   "metadata": {},
   "outputs": [],
   "source": []
  },
  {
   "cell_type": "code",
   "execution_count": null,
   "metadata": {},
   "outputs": [],
   "source": [
    "from langchain_core.prompts import ChatPromptTemplate\n",
    "from langchain.schema import StrOutputParser\n",
    "from langchain_core.runnables import RunnablePassthrough\n",
    "from langchain_ollama.llms import OllamaLLM\n",
    "\n",
    "template = \"\"\"\n",
    "Ты интеллектуальный помощник компании RUTUBE и ты очень точно отвечаешь на вопросы. Будь вежливым.\n",
    "Ответь на вопрос, выбрав фрагмент из контекста, не меняя его по возможности, сохрани все имена, аббревиатуры, даты и ссылки. Вот контекст:\n",
    "\n",
    "{context}\n",
    "\n",
    "Вопрос: {question}\n",
    "\n",
    "Если не можешь найти ответ в контексте, вежливо скажи, что не знаешь ответ\n",
    "\"\"\"\n",
    "prompt = ChatPromptTemplate.from_template(template)\n",
    "model = OllamaLLM(model='gemma2:9b', base_url='http://26.251.162.207:11434')  # через vpn связь со своим ПК с GPU и развернутой LLM\n",
    "\n",
    "# некоторые из моделей, которые мы пробовали\n",
    "# mistral:7b -- so so\n",
    "# llama3.1 -- so so\n",
    "# wavecut/vikhr -- норм\n",
    "# gemma2:9b -- норм\n",
    "\n",
    "def format_docs(docs):\n",
    "    return \"\\n\\n\".join([d.page_content for d in docs])\n",
    "\n",
    "chain = (\n",
    "    {\"context\": ensemble_retriever | format_docs, \"question\": RunnablePassthrough()}\n",
    "    | prompt\n",
    "    | model\n",
    "    | StrOutputParser()\n",
    ")"
   ]
  },
  {
   "cell_type": "code",
   "execution_count": null,
   "metadata": {},
   "outputs": [
    {
     "name": "stdout",
     "output_type": "stream",
     "text": [
      "Привет!  По умолчанию считается, что авторские права на размещённый на RUTUBE контент принадлежат тому пользователю, который его разместил. \n",
      " Некоторые права передаются в рамках открытой лицензии третьим лицам, получившим доступ к этому контенту. Подробнее в разделе 4 Генерального пользовательского соглашения https://rutube.ru/info/agreement/ и в Приложении «Е» https://rutube.ru/info/ccl_agreement/.  \n"
     ]
    }
   ],
   "source": [
    "for a in chain.stream('Привет, кому принадлежат авторские права на контент?'):\n",
    "    print(a, end = '')"
   ]
  },
  {
   "cell_type": "code",
   "execution_count": null,
   "metadata": {},
   "outputs": [
    {
     "name": "stdout",
     "output_type": "stream",
     "text": [
      "Вопрос из БЗ: Кому принадлежат авторские права на контент, который я размещаю на платформе?\n",
      "Ответ из БЗ: По умолчанию считается, что авторские права на размещённый на RUTUBE контент принадлежат тому пользователю, который его разместил. Некоторые права передаются в рамках открытой лицензии третьим лицам, получившим доступ к этому контенту. Подробнее в разделе 4 Генерального пользовательского соглашения https://rutube.ru/info/agreement/ и в Приложении «Е» https://rutube.ru/info/ccl_agreement/.\n",
      "\n",
      "Вопрос из БЗ: Кто такой правообладатель и как им стать?\n",
      "Ответ из БЗ: Правообладателем контента может стать как его автор, так и любой другой человек или организация. Если вы хотите зарегистрироваться в качестве правообладателя и у вас есть документы, которые подтверждают ваши права на контент, напишите письмо на partners@rutube.ru. Правообладатель имеет право стать партнером и получать доход посредством монетизации.\n",
      "\n",
      "Вопрос из БЗ: Могу ли я монетизировать видеоролики, в которых есть реакции на фильмы, блоги или клипы?\n",
      "Ответ из БЗ: Если вы выкладываете UGC-контент на RUTUBE и не включаете в него чужую интеллектуальную собственность, то такой контент будет считаться авторским. Если же вы планируете включать в свои видео чужие объекты интеллектуальной собственности — кадры из фильма, клипа, чужого блога, вам нужно подтвердить, что у вас есть разрешение на использование от первоначального правообладателя.\n",
      "\n",
      "Вопрос из БЗ: Нарушает ли авторские права использование образа персонажа игры/фильма/сериала?\n",
      "Ответ из БЗ: Да, права на персонажей фильмов/мультфильмов/игр/сериалов охраняются авторским правом, и их образы нельзя использовать без официального разрешения автора или правообладателя.\n",
      "\n",
      "Вопрос из БЗ: Почему вы не разглашаете, чьи авторские права я нарушаю?\n",
      "Ответ из БЗ: Мы строго следуем правилам платформы, а именно п. 4.18, 4.27, 4.30 Генерального пользовательского соглашения RUTUBE.\n"
     ]
    }
   ],
   "source": [
    "print('\\n\\n'.join(d.page_content for d in ensemble_retriever.invoke('Кому принадлежат авторские права на контент, который я размещаю на платформе?')))"
   ]
  },
  {
   "cell_type": "code",
   "execution_count": null,
   "metadata": {},
   "outputs": [
    {
     "name": "stdout",
     "output_type": "stream",
     "text": [
      "Привет!  Для подключения монетизации нужно загрузить на свой канал минимум 2 ролика и набрать 5000 просмотров начиная с 1 января 2021 года. После этого в разделе «Монетизация» в Студии RUTUBE появится анкета партнёра, которую нужно заполнить и подать заявку на монетизацию: https://studio.rutube.ru/monetization.\n",
      "\n",
      "Подробнее о том, как это работает, можно прочитать здесь: https://rutube.ru/info/adv_oferta/. \n",
      "\n",
      "\n"
     ]
    }
   ],
   "source": [
    "for a in chain.stream(\"Привет, как подключить монетизацию?\"):\n",
    "    print(a, end = '')"
   ]
  },
  {
   "cell_type": "code",
   "execution_count": null,
   "metadata": {},
   "outputs": [
    {
     "name": "stdout",
     "output_type": "stream",
     "text": [
      "Я не могу ответить на ваш вопрос. Информация о приготовлении каши отсутствует в данном тексте.  \n",
      "\n",
      "\n"
     ]
    }
   ],
   "source": [
    "for a in chain.stream(\"Как сварить кашу?\"):\n",
    "    print(a, end = '')"
   ]
  },
  {
   "cell_type": "code",
   "execution_count": null,
   "metadata": {},
   "outputs": [
    {
     "name": "stdout",
     "output_type": "stream",
     "text": [
      "Для входа в приложение Studio RUTUBE вы можете использовать свой номер телефона или адрес электронной почты. Если у вас возникли проблемы с входом, обратитесь за помощью к службе поддержки по адресу help@rutube.ru, указав ваш номер телефона или адрес электронной почты, использованные для регистрации аккаунта."
     ]
    }
   ],
   "source": [
    "for a in chain.stream(\"Как войти в приложении Студия RUTUBE?\"):\n",
    "    print(a, end = '')"
   ]
  },
  {
   "cell_type": "code",
   "execution_count": null,
   "metadata": {},
   "outputs": [],
   "source": [
    "def calculate_hit_rate(responses, ground_truth):\n",
    "    hits = sum([1 for response, truth in zip(responses, ground_truth) if response == truth])\n",
    "\n",
    "    return hits / len(ground_truth)\n",
    "\n",
    "def calculate_mrr(responses, ground_truth):\n",
    "    reciprocal_ranks = []\n",
    "    for truth in ground_truth:\n",
    "        if truth in responses:\n",
    "            rank = responses.index(truth) + 1\n",
    "            reciprocal_ranks.append(1 / rank)\n",
    "        else:\n",
    "            reciprocal_ranks.append(0)\n",
    "    return sum(reciprocal_ranks) / len(ground_truth)\n",
    "\n",
    "def calculate_relevancy(responses, query):\n",
    "    relevant_responses = sum([1 for response in responses if query.lower() in response.lower()])\n",
    "    return relevant_responses / len(responses)\n"
   ]
  },
  {
   "cell_type": "code",
   "execution_count": null,
   "metadata": {},
   "outputs": [],
   "source": [
    "def context_precision(predictions, ground_truths):\n",
    "    precision_scores = []\n",
    "    for pred, truth in zip(predictions, ground_truths):\n",
    "        relevant_items = set(truth.split())\n",
    "        retrieved_items = set(pred.split())\n",
    "        print(f'{relevant_items=}')\n",
    "        print(f'{retrieved_items=}')\n",
    "        if retrieved_items:\n",
    "            precision_scores.append(len(relevant_items & retrieved_items) / len(retrieved_items))\n",
    "        else:\n",
    "            precision_scores.append(0)\n",
    "    return sum(precision_scores) / len(precision_scores)\n",
    "\n",
    "def faithfulness(predictions, ground_truths):\n",
    "    return sum(1 for pred, truth in zip(predictions, ground_truths) if pred == truth) / len(predictions)\n",
    "\n",
    "def answer_relevancy(predictions, ground_truths):\n",
    "    relevancy_scores = []\n",
    "    for pred, truth in zip(predictions, ground_truths):\n",
    "        relevancy_scores.append(len(set(pred.split()) & set(truth.split())) / len(set(truth.split())) if truth else 0)\n",
    "    return sum(relevancy_scores) / len(relevancy_scores)"
   ]
  },
  {
   "cell_type": "code",
   "execution_count": 10,
   "metadata": {},
   "outputs": [
    {
     "data": {
      "text/html": [
       "<div>\n",
       "<style scoped>\n",
       "    .dataframe tbody tr th:only-of-type {\n",
       "        vertical-align: middle;\n",
       "    }\n",
       "\n",
       "    .dataframe tbody tr th {\n",
       "        vertical-align: top;\n",
       "    }\n",
       "\n",
       "    .dataframe thead th {\n",
       "        text-align: right;\n",
       "    }\n",
       "</style>\n",
       "<table border=\"1\" class=\"dataframe\">\n",
       "  <thead>\n",
       "    <tr style=\"text-align: right;\">\n",
       "      <th></th>\n",
       "      <th>Вопрос пользователя</th>\n",
       "      <th>Ответ сотрудника</th>\n",
       "      <th>Вопрос из БЗ</th>\n",
       "      <th>Ответ из БЗ</th>\n",
       "      <th>Классификатор 1 уровня</th>\n",
       "      <th>Классификатор 2 уровня</th>\n",
       "    </tr>\n",
       "  </thead>\n",
       "  <tbody>\n",
       "    <tr>\n",
       "      <th>0</th>\n",
       "      <td>Здравствуйте! Можно уточнить причины Правилhtt...</td>\n",
       "      <td>Добрый день!\\nЧто нельзя публиковать на RUTUBE...</td>\n",
       "      <td>Что нельзя публиковать на RUTUBE?</td>\n",
       "      <td>Чужой контент без разрешения автора или правоо...</td>\n",
       "      <td>МОДЕРАЦИЯ</td>\n",
       "      <td>Отклонение/блокировка видео</td>\n",
       "    </tr>\n",
       "    <tr>\n",
       "      <th>1</th>\n",
       "      <td>Добрый вечер, какой топ причин блокировки виде...</td>\n",
       "      <td>Добрый вечер!\\nЧто заперщено публиковать на RU...</td>\n",
       "      <td>Что нельзя публиковать на RUTUBE?</td>\n",
       "      <td>Чужой контент без разрешения автора или правоо...</td>\n",
       "      <td>МОДЕРАЦИЯ</td>\n",
       "      <td>Отклонение/блокировка видео</td>\n",
       "    </tr>\n",
       "    <tr>\n",
       "      <th>2</th>\n",
       "      <td>Все пишут, что монетизация на рутубе отключает...</td>\n",
       "      <td>Добрый день! \\nМонетизация может отключиться, ...</td>\n",
       "      <td>Почему могут отключить монетизацию из-за автор...</td>\n",
       "      <td>Монетизация может отключиться, если на вашем к...</td>\n",
       "      <td>МОНЕТИЗАЦИЯ</td>\n",
       "      <td>Отключение/подключение монетизации</td>\n",
       "    </tr>\n",
       "    <tr>\n",
       "      <th>3</th>\n",
       "      <td>Что запрещено в монетизации и что можно выклад...</td>\n",
       "      <td>Здравствуйте!\\nМонетизация может отключиться, ...</td>\n",
       "      <td>Почему могут отключить монетизацию из-за автор...</td>\n",
       "      <td>Монетизация может отключиться, если на вашем к...</td>\n",
       "      <td>МОНЕТИЗАЦИЯ</td>\n",
       "      <td>Отключение/подключение монетизации</td>\n",
       "    </tr>\n",
       "    <tr>\n",
       "      <th>4</th>\n",
       "      <td>Чтобы не отключали монетизацию, надо, чтобы я ...</td>\n",
       "      <td>Для монетизации можно использовать то, что вы ...</td>\n",
       "      <td>Почему могут отключить монетизацию из-за автор...</td>\n",
       "      <td>Монетизация может отключиться, если на вашем к...</td>\n",
       "      <td>МОНЕТИЗАЦИЯ</td>\n",
       "      <td>Отключение/подключение монетизации</td>\n",
       "    </tr>\n",
       "  </tbody>\n",
       "</table>\n",
       "</div>"
      ],
      "text/plain": [
       "                                 Вопрос пользователя  \\\n",
       "0  Здравствуйте! Можно уточнить причины Правилhtt...   \n",
       "1  Добрый вечер, какой топ причин блокировки виде...   \n",
       "2  Все пишут, что монетизация на рутубе отключает...   \n",
       "3  Что запрещено в монетизации и что можно выклад...   \n",
       "4  Чтобы не отключали монетизацию, надо, чтобы я ...   \n",
       "\n",
       "                                    Ответ сотрудника  \\\n",
       "0  Добрый день!\\nЧто нельзя публиковать на RUTUBE...   \n",
       "1  Добрый вечер!\\nЧто заперщено публиковать на RU...   \n",
       "2  Добрый день! \\nМонетизация может отключиться, ...   \n",
       "3  Здравствуйте!\\nМонетизация может отключиться, ...   \n",
       "4  Для монетизации можно использовать то, что вы ...   \n",
       "\n",
       "                                        Вопрос из БЗ  \\\n",
       "0                  Что нельзя публиковать на RUTUBE?   \n",
       "1                  Что нельзя публиковать на RUTUBE?   \n",
       "2  Почему могут отключить монетизацию из-за автор...   \n",
       "3  Почему могут отключить монетизацию из-за автор...   \n",
       "4  Почему могут отключить монетизацию из-за автор...   \n",
       "\n",
       "                                         Ответ из БЗ Классификатор 1 уровня  \\\n",
       "0  Чужой контент без разрешения автора или правоо...              МОДЕРАЦИЯ   \n",
       "1  Чужой контент без разрешения автора или правоо...              МОДЕРАЦИЯ   \n",
       "2  Монетизация может отключиться, если на вашем к...            МОНЕТИЗАЦИЯ   \n",
       "3  Монетизация может отключиться, если на вашем к...            МОНЕТИЗАЦИЯ   \n",
       "4  Монетизация может отключиться, если на вашем к...            МОНЕТИЗАЦИЯ   \n",
       "\n",
       "               Классификатор 2 уровня  \n",
       "0         Отклонение/блокировка видео  \n",
       "1         Отклонение/блокировка видео  \n",
       "2  Отключение/подключение монетизации  \n",
       "3  Отключение/подключение монетизации  \n",
       "4  Отключение/подключение монетизации  "
      ]
     },
     "execution_count": 10,
     "metadata": {},
     "output_type": "execute_result"
    }
   ],
   "source": [
    "data = pd.read_excel('../data/02_Реальные_кейсы.xlsx')\n",
    "data.head()"
   ]
  },
  {
   "cell_type": "code",
   "execution_count": 11,
   "metadata": {},
   "outputs": [
    {
     "data": {
      "text/html": [
       "<div>\n",
       "<style scoped>\n",
       "    .dataframe tbody tr th:only-of-type {\n",
       "        vertical-align: middle;\n",
       "    }\n",
       "\n",
       "    .dataframe tbody tr th {\n",
       "        vertical-align: top;\n",
       "    }\n",
       "\n",
       "    .dataframe thead th {\n",
       "        text-align: right;\n",
       "    }\n",
       "</style>\n",
       "<table border=\"1\" class=\"dataframe\">\n",
       "  <thead>\n",
       "    <tr style=\"text-align: right;\">\n",
       "      <th></th>\n",
       "      <th>Вопрос пользователя</th>\n",
       "      <th>Ответ сотрудника</th>\n",
       "    </tr>\n",
       "  </thead>\n",
       "  <tbody>\n",
       "    <tr>\n",
       "      <th>0</th>\n",
       "      <td>Здравствуйте! Можно уточнить причины Правилhtt...</td>\n",
       "      <td>Добрый день!\\nЧто нельзя публиковать на RUTUBE...</td>\n",
       "    </tr>\n",
       "    <tr>\n",
       "      <th>1</th>\n",
       "      <td>Добрый вечер, какой топ причин блокировки виде...</td>\n",
       "      <td>Добрый вечер!\\nЧто заперщено публиковать на RU...</td>\n",
       "    </tr>\n",
       "    <tr>\n",
       "      <th>2</th>\n",
       "      <td>Все пишут, что монетизация на рутубе отключает...</td>\n",
       "      <td>Добрый день! \\nМонетизация может отключиться, ...</td>\n",
       "    </tr>\n",
       "    <tr>\n",
       "      <th>3</th>\n",
       "      <td>Что запрещено в монетизации и что можно выклад...</td>\n",
       "      <td>Здравствуйте!\\nМонетизация может отключиться, ...</td>\n",
       "    </tr>\n",
       "    <tr>\n",
       "      <th>4</th>\n",
       "      <td>Чтобы не отключали монетизацию, надо, чтобы я ...</td>\n",
       "      <td>Для монетизации можно использовать то, что вы ...</td>\n",
       "    </tr>\n",
       "  </tbody>\n",
       "</table>\n",
       "</div>"
      ],
      "text/plain": [
       "                                 Вопрос пользователя  \\\n",
       "0  Здравствуйте! Можно уточнить причины Правилhtt...   \n",
       "1  Добрый вечер, какой топ причин блокировки виде...   \n",
       "2  Все пишут, что монетизация на рутубе отключает...   \n",
       "3  Что запрещено в монетизации и что можно выклад...   \n",
       "4  Чтобы не отключали монетизацию, надо, чтобы я ...   \n",
       "\n",
       "                                    Ответ сотрудника  \n",
       "0  Добрый день!\\nЧто нельзя публиковать на RUTUBE...  \n",
       "1  Добрый вечер!\\nЧто заперщено публиковать на RU...  \n",
       "2  Добрый день! \\nМонетизация может отключиться, ...  \n",
       "3  Здравствуйте!\\nМонетизация может отключиться, ...  \n",
       "4  Для монетизации можно использовать то, что вы ...  "
      ]
     },
     "execution_count": 11,
     "metadata": {},
     "output_type": "execute_result"
    }
   ],
   "source": [
    "data = data.drop(['Вопрос из БЗ', 'Ответ из БЗ', 'Классификатор 1 уровня', 'Классификатор 2 уровня'], axis=1)\n",
    "data.head()"
   ]
  },
  {
   "cell_type": "code",
   "execution_count": 12,
   "metadata": {},
   "outputs": [],
   "source": [
    "data.to_csv('../data/test_base.csv', index=False, encoding='utf-8')"
   ]
  },
  {
   "cell_type": "code",
   "execution_count": 14,
   "metadata": {},
   "outputs": [],
   "source": [
    "data = pd.read_csv('../data/test_base.csv', encoding='utf-8')"
   ]
  },
  {
   "cell_type": "code",
   "execution_count": null,
   "metadata": {},
   "outputs": [],
   "source": [
    "data = data[:100]"
   ]
  },
  {
   "cell_type": "code",
   "execution_count": null,
   "metadata": {},
   "outputs": [],
   "source": [
    "from tqdm import tqdm\n",
    "from datasets import Dataset, load_from_disk"
   ]
  },
  {
   "cell_type": "markdown",
   "metadata": {},
   "source": [
    "gemma2"
   ]
  },
  {
   "cell_type": "code",
   "execution_count": null,
   "metadata": {},
   "outputs": [
    {
     "name": "stderr",
     "output_type": "stream",
     "text": [
      "100%|██████████| 100/100 [13:16<00:00,  7.96s/it]\n"
     ]
    }
   ],
   "source": [
    "ground_truths = data['Ответ сотрудника'].tolist()\n",
    "answers = []\n",
    "for question in tqdm(data['Вопрос пользователя']):\n",
    "    prediction = chain.invoke(question)\n",
    "    answers.append(prediction)\n"
   ]
  },
  {
   "cell_type": "code",
   "execution_count": null,
   "metadata": {},
   "outputs": [
    {
     "name": "stdout",
     "output_type": "stream",
     "text": [
      "ROUGE-1:  {'r': 0.4051708514051315, 'p': 0.40547657149093674, 'f': 0.3853999428010288}\n",
      "ROUGE-2:  {'r': 0.3098056824820055, 'p': 0.31516324316045524, 'f': 0.29694316656142933}\n",
      "ROUGE-L:  {'r': 0.3959456304136062, 'p': 0.39680840327476197, 'f': 0.3766770306941551}\n"
     ]
    }
   ],
   "source": [
    "from rouge import Rouge\n",
    "\n",
    "rouge = Rouge()\n",
    "\n",
    "scores = rouge.get_scores(answers, ground_truths, avg=True)\n",
    "\n",
    "print(\"ROUGE-1: \", scores['rouge-1'])\n",
    "print(\"ROUGE-2: \", scores['rouge-2'])\n",
    "print(\"ROUGE-L: \", scores['rouge-l'])\n"
   ]
  },
  {
   "cell_type": "markdown",
   "metadata": {},
   "source": [
    "С новым промтом"
   ]
  },
  {
   "cell_type": "code",
   "execution_count": null,
   "metadata": {},
   "outputs": [
    {
     "name": "stdout",
     "output_type": "stream",
     "text": [
      "ROUGE-1:  {'r': 0.42678218004526286, 'p': 0.4968356686994001, 'f': 0.4416919564269226}\n",
      "ROUGE-2:  {'r': 0.37738458534996594, 'p': 0.4347684245874429, 'f': 0.3889902944121156}\n",
      "ROUGE-L:  {'r': 0.42464681797143927, 'p': 0.49443860513085947, 'f': 0.4395035521254779}\n"
     ]
    }
   ],
   "source": [
    "from rouge import Rouge\n",
    "\n",
    "rouge = Rouge()\n",
    "\n",
    "scores = rouge.get_scores(answers, ground_truths, avg=True)\n",
    "\n",
    "print(\"ROUGE-1: \", scores['rouge-1'])\n",
    "print(\"ROUGE-2: \", scores['rouge-2'])\n",
    "print(\"ROUGE-L: \", scores['rouge-l'])\n"
   ]
  },
  {
   "cell_type": "markdown",
   "metadata": {},
   "source": [
    "\\+ db top3\n",
    "\n",
    "\\+ rerank top2\n",
    "\n",
    "\\- bm"
   ]
  },
  {
   "cell_type": "code",
   "execution_count": null,
   "metadata": {},
   "outputs": [
    {
     "name": "stdout",
     "output_type": "stream",
     "text": [
      "ROUGE-1:  {'r': 0.4233416923949659, 'p': 0.5104342935278656, 'f': 0.4405773879511342}\n",
      "ROUGE-2:  {'r': 0.3600688354165307, 'p': 0.42575274380276795, 'f': 0.3712909602238434}\n",
      "ROUGE-L:  {'r': 0.41959057401862127, 'p': 0.5039508709562852, 'f': 0.4362472913632246}\n"
     ]
    }
   ],
   "source": [
    "from rouge import Rouge\n",
    "\n",
    "rouge = Rouge()\n",
    "\n",
    "scores = rouge.get_scores(answers, ground_truths, avg=True)\n",
    "\n",
    "print(\"ROUGE-1: \", scores['rouge-1'])\n",
    "print(\"ROUGE-2: \", scores['rouge-2'])\n",
    "print(\"ROUGE-L: \", scores['rouge-l'])\n"
   ]
  },
  {
   "cell_type": "markdown",
   "metadata": {},
   "source": [
    "На test_retriever без ансамбля (стало хуже)"
   ]
  },
  {
   "cell_type": "code",
   "execution_count": null,
   "metadata": {},
   "outputs": [
    {
     "name": "stdout",
     "output_type": "stream",
     "text": [
      "ROUGE-1:  {'r': 0.42930905747111564, 'p': 0.4909059867420198, 'f': 0.4313834346742969}\n",
      "ROUGE-2:  {'r': 0.36751749465096184, 'p': 0.4200438286771497, 'f': 0.36923725257190376}\n",
      "ROUGE-L:  {'r': 0.4240318496571432, 'p': 0.48482132821419, 'f': 0.42634277646289276}\n"
     ]
    }
   ],
   "source": [
    "from rouge import Rouge\n",
    "\n",
    "rouge = Rouge()\n",
    "\n",
    "scores = rouge.get_scores(answers, ground_truths, avg=True)\n",
    "\n",
    "print(\"ROUGE-1: \", scores['rouge-1'])\n",
    "print(\"ROUGE-2: \", scores['rouge-2'])\n",
    "print(\"ROUGE-L: \", scores['rouge-l'])\n"
   ]
  },
  {
   "cell_type": "markdown",
   "metadata": {},
   "source": [
    "Без бм 25"
   ]
  },
  {
   "cell_type": "code",
   "execution_count": null,
   "metadata": {},
   "outputs": [
    {
     "name": "stdout",
     "output_type": "stream",
     "text": [
      "ROUGE-1:  {'r': 0.4354718005843907, 'p': 0.5189136709034018, 'f': 0.45245438620460093}\n",
      "ROUGE-2:  {'r': 0.36885349411062884, 'p': 0.440407938991423, 'f': 0.3837366774766806}\n",
      "ROUGE-L:  {'r': 0.42836990725927754, 'p': 0.5117226677887935, 'f': 0.4455627967414783}\n"
     ]
    }
   ],
   "source": [
    "from rouge import Rouge\n",
    "\n",
    "rouge = Rouge()\n",
    "\n",
    "scores = rouge.get_scores(answers, ground_truths, avg=True)\n",
    "\n",
    "print(\"ROUGE-1: \", scores['rouge-1'])\n",
    "print(\"ROUGE-2: \", scores['rouge-2'])\n",
    "print(\"ROUGE-L: \", scores['rouge-l'])\n"
   ]
  },
  {
   "cell_type": "code",
   "execution_count": null,
   "metadata": {},
   "outputs": [],
   "source": [
    "data = pd.read_excel('../data/02_Реальные_кейсы.xlsx')"
   ]
  },
  {
   "cell_type": "code",
   "execution_count": null,
   "metadata": {},
   "outputs": [],
   "source": [
    "data = data.drop(['Вопрос из БЗ', 'Классификатор 1 уровня', 'Классификатор 2 уровня'], axis=1)"
   ]
  },
  {
   "cell_type": "code",
   "execution_count": null,
   "metadata": {},
   "outputs": [],
   "source": [
    "data.to_csv('../data/test_base_xl.csv', index=False, encoding='utf-8')"
   ]
  },
  {
   "cell_type": "code",
   "execution_count": null,
   "metadata": {},
   "outputs": [],
   "source": [
    "data = pd.read_csv('../data/test_base_xl.csv', encoding='utf-8')"
   ]
  },
  {
   "cell_type": "code",
   "execution_count": null,
   "metadata": {},
   "outputs": [],
   "source": [
    "ground_truths = data['Ответ сотрудника'].tolist()\n",
    "answers = data['Ответ из БЗ'].tolist()"
   ]
  },
  {
   "cell_type": "code",
   "execution_count": null,
   "metadata": {},
   "outputs": [
    {
     "name": "stdout",
     "output_type": "stream",
     "text": [
      "ROUGE-1:  {'r': 0.6179374622517397, 'p': 0.6431418738503726, 'f': 0.6132308775817791}\n",
      "ROUGE-2:  {'r': 0.5203859510429478, 'p': 0.5418607693118779, 'f': 0.5184162697290735}\n",
      "ROUGE-L:  {'r': 0.6088197301852988, 'p': 0.6333266093416594, 'f': 0.6040425386299259}\n"
     ]
    }
   ],
   "source": [
    "rouge = Rouge()\n",
    "\n",
    "scores = rouge.get_scores(answers, ground_truths, avg=True)\n",
    "\n",
    "print(\"ROUGE-1: \", scores['rouge-1'])\n",
    "print(\"ROUGE-2: \", scores['rouge-2'])\n",
    "print(\"ROUGE-L: \", scores['rouge-l'])"
   ]
  },
  {
   "cell_type": "code",
   "execution_count": null,
   "metadata": {},
   "outputs": [],
   "source": [
    "ground_truths = data['Ответ сотрудника'].tolist()"
   ]
  },
  {
   "cell_type": "code",
   "execution_count": null,
   "metadata": {},
   "outputs": [
    {
     "name": "stdout",
     "output_type": "stream",
     "text": [
      "Тестирование модели: mistral:7b\n"
     ]
    },
    {
     "name": "stderr",
     "output_type": "stream",
     "text": [
      "100%|██████████| 100/100 [13:24<00:00,  8.04s/it]\n"
     ]
    },
    {
     "name": "stdout",
     "output_type": "stream",
     "text": [
      "Тестирование модели: wavecut/vikhr:latest\n"
     ]
    },
    {
     "name": "stderr",
     "output_type": "stream",
     "text": [
      "100%|██████████| 100/100 [11:44<00:00,  7.05s/it]\n"
     ]
    },
    {
     "name": "stdout",
     "output_type": "stream",
     "text": [
      "Тестирование модели: llama3.1:8b\n"
     ]
    },
    {
     "name": "stderr",
     "output_type": "stream",
     "text": [
      "100%|██████████| 100/100 [12:43<00:00,  7.63s/it]\n"
     ]
    },
    {
     "name": "stdout",
     "output_type": "stream",
     "text": [
      "Тестирование модели: llama3.2\n"
     ]
    },
    {
     "name": "stderr",
     "output_type": "stream",
     "text": [
      "100%|██████████| 100/100 [10:24<00:00,  6.25s/it]\n"
     ]
    },
    {
     "name": "stdout",
     "output_type": "stream",
     "text": [
      "Модель: mistral:7b\n",
      "ROUGE-1: {'r': 0.3566160023227822, 'p': 0.23847804953513235, 'f': 0.26199015733848524}\n",
      "ROUGE-2: {'r': 0.20404036279759236, 'p': 0.1389016864550591, 'f': 0.14946098509926667}\n",
      "ROUGE-L: {'r': 0.33413287030883077, 'p': 0.22282752766479302, 'f': 0.24475754765462096}\n",
      "\n",
      "Модель: wavecut/vikhr:latest\n",
      "ROUGE-1: {'r': 0.35277909808977825, 'p': 0.18864486188718355, 'f': 0.22483499787356467}\n",
      "ROUGE-2: {'r': 0.14044921893020043, 'p': 0.0686982221584662, 'f': 0.08545386126331883}\n",
      "ROUGE-L: {'r': 0.32998242362339836, 'p': 0.1749969200577814, 'f': 0.20876009944423352}\n",
      "\n",
      "Модель: llama3.1:8b\n",
      "ROUGE-1: {'r': 0.44601458170445235, 'p': 0.26387363182858875, 'f': 0.30756790134633744}\n",
      "ROUGE-2: {'r': 0.3037452821847417, 'p': 0.17579250614584485, 'f': 0.20734890647935747}\n",
      "ROUGE-L: {'r': 0.4231959136927327, 'p': 0.24981268412591845, 'f': 0.2915758313832965}\n",
      "\n",
      "Модель: llama3.2\n",
      "ROUGE-1: {'r': 0.3676250318097493, 'p': 0.1849241865042645, 'f': 0.21789556119966771}\n",
      "ROUGE-2: {'r': 0.24297242819078843, 'p': 0.10477598568633624, 'f': 0.130063892628378}\n",
      "ROUGE-L: {'r': 0.3529270741256705, 'p': 0.17697822015715384, 'f': 0.2085167056064487}\n",
      "\n"
     ]
    }
   ],
   "source": [
    "from langchain_core.prompts import ChatPromptTemplate\n",
    "from langchain.schema import StrOutputParser\n",
    "from langchain_core.runnables import RunnablePassthrough\n",
    "from langchain_ollama.llms import OllamaLLM\n",
    "from rouge import Rouge\n",
    "from tqdm import tqdm\n",
    "\n",
    "template = \"\"\"\n",
    "Ты интеллектуальный помощник компании rutube и помогаешь отвечать на вопросы. Будь вежливым.\n",
    "Ответь на вопрос, используя следующий контекст, не меняя контекст и сохраняя все даты проведения событий, имена, аббревиатуры и ссылки:\n",
    "\n",
    "{context}\n",
    "\n",
    "Вопрос: {question}\n",
    "\n",
    "Если не можешь найти ответ в контексте, вежливо скажи, что не знаешь ответ\n",
    "\"\"\"\n",
    "prompt = ChatPromptTemplate.from_template(template)\n",
    "\n",
    "ollama_models = ['mistral:7b', 'wavecut/vikhr:latest', 'llama3.1:8b', 'llama3.2']\n",
    "\n",
    "def format_docs(docs):\n",
    "    return \"\\n\\n\".join([d.page_content for d in docs])\n",
    "\n",
    "rouge = Rouge()\n",
    "\n",
    "results = []\n",
    "\n",
    "for model_name in ollama_models:\n",
    "    print(f\"Тестирование модели: {model_name}\")\n",
    "\n",
    "    model = OllamaLLM(model=model_name, base_url='http://26.251.162.207:11434')\n",
    "\n",
    "    chain = (\n",
    "        {\"context\": ensemble_retriever | format_docs, \"question\": RunnablePassthrough()}\n",
    "        | prompt\n",
    "        | model\n",
    "        | StrOutputParser()\n",
    "    )\n",
    "\n",
    "    answers = []\n",
    "\n",
    "    for question in tqdm(data['Вопрос пользователя']):\n",
    "        prediction = chain.invoke(question)\n",
    "        answers.append(prediction)\n",
    "    \n",
    "    scores = rouge.get_scores(answers, ground_truths, avg=True)\n",
    "\n",
    "    results.append({\n",
    "        'model': model_name,\n",
    "        'rouge-1': scores['rouge-1'],\n",
    "        'rouge-2': scores['rouge-2'],\n",
    "        'rouge-l': scores['rouge-l']\n",
    "    })\n",
    "\n",
    "for result in results:\n",
    "    print(f\"Модель: {result['model']}\")\n",
    "    print(f\"ROUGE-1: {result['rouge-1']}\")\n",
    "    print(f\"ROUGE-2: {result['rouge-2']}\")\n",
    "    print(f\"ROUGE-L: {result['rouge-l']}\")\n",
    "    print()\n"
   ]
  },
  {
   "cell_type": "code",
   "execution_count": null,
   "metadata": {},
   "outputs": [
    {
     "name": "stdout",
     "output_type": "stream",
     "text": [
      "Тестирование модели: gemma2:9b-instruct-q6_K\n"
     ]
    },
    {
     "name": "stderr",
     "output_type": "stream",
     "text": [
      "100%|██████████| 100/100 [18:55<00:00, 11.35s/it]\n"
     ]
    },
    {
     "name": "stdout",
     "output_type": "stream",
     "text": [
      "Тестирование модели: qwen2.5:14b-instruct-q3_K_M\n"
     ]
    },
    {
     "name": "stderr",
     "output_type": "stream",
     "text": [
      "100%|██████████| 100/100 [32:12<00:00, 19.33s/it] "
     ]
    },
    {
     "name": "stdout",
     "output_type": "stream",
     "text": [
      "Модель: gemma2:9b-instruct-q6_K\n",
      "ROUGE-1: {'r': 0.37920031260262377, 'p': 0.4007276488136437, 'f': 0.3702487881195223}\n",
      "ROUGE-2: {'r': 0.27628317848041295, 'p': 0.2896296727650362, 'f': 0.2676160295025228}\n",
      "ROUGE-L: {'r': 0.3698622927147418, 'p': 0.39029766432865365, 'f': 0.36082769078950183}\n",
      "\n",
      "Модель: qwen2.5:14b-instruct-q3_K_M\n",
      "ROUGE-1: {'r': 0.3736570765553765, 'p': 0.24415983920974935, 'f': 0.2773864067984607}\n",
      "ROUGE-2: {'r': 0.18449492169221401, 'p': 0.118165368278478, 'f': 0.1359410494926958}\n",
      "ROUGE-L: {'r': 0.35611606801805407, 'p': 0.23209668862428387, 'f': 0.26380041501428875}\n",
      "\n"
     ]
    },
    {
     "name": "stderr",
     "output_type": "stream",
     "text": [
      "\n"
     ]
    }
   ],
   "source": [
    "from langchain_core.prompts import ChatPromptTemplate\n",
    "from langchain.schema import StrOutputParser\n",
    "from langchain_core.runnables import RunnablePassthrough\n",
    "from langchain_ollama.llms import OllamaLLM\n",
    "from rouge import Rouge\n",
    "from tqdm import tqdm\n",
    "\n",
    "template = \"\"\"\n",
    "Ты интеллектуальный помощник компании rutube и помогаешь отвечать на вопросы. Будь вежливым.\n",
    "Ответь на вопрос, используя следующий контекст, не меняя контекст и сохраняя все даты проведения событий, имена, аббревиатуры и ссылки:\n",
    "\n",
    "{context}\n",
    "\n",
    "Вопрос: {question}\n",
    "\n",
    "Если не можешь найти ответ в контексте, вежливо скажи, что не знаешь ответ\n",
    "\"\"\"\n",
    "prompt = ChatPromptTemplate.from_template(template)\n",
    "\n",
    "ollama_models = ['gemma2:9b-instruct-q6_K', 'qwen2.5:14b-instruct-q3_K_M']\n",
    "\n",
    "def format_docs(docs):\n",
    "    return \"\\n\\n\".join([d.page_content for d in docs])\n",
    "\n",
    "rouge = Rouge()\n",
    "\n",
    "results = []\n",
    "\n",
    "for model_name in ollama_models:\n",
    "    print(f\"Тестирование модели: {model_name}\")\n",
    "\n",
    "    model = OllamaLLM(model=model_name, base_url='http://26.251.162.207:11434')\n",
    "\n",
    "    chain = (\n",
    "        {\"context\": ensemble_retriever | format_docs, \"question\": RunnablePassthrough()}\n",
    "        | prompt\n",
    "        | model\n",
    "        | StrOutputParser()\n",
    "    )\n",
    "\n",
    "    answers = []\n",
    "\n",
    "    for question in tqdm(data['Вопрос пользователя']):\n",
    "        prediction = chain.invoke(question)\n",
    "        answers.append(prediction)\n",
    "    \n",
    "    scores = rouge.get_scores(answers, ground_truths, avg=True)\n",
    "\n",
    "    results.append({\n",
    "        'model': model_name,\n",
    "        'rouge-1': scores['rouge-1'],\n",
    "        'rouge-2': scores['rouge-2'],\n",
    "        'rouge-l': scores['rouge-l']\n",
    "    })\n",
    "\n",
    "for result in results:\n",
    "    print(f\"Модель: {result['model']}\")\n",
    "    print(f\"ROUGE-1: {result['rouge-1']}\")\n",
    "    print(f\"ROUGE-2: {result['rouge-2']}\")\n",
    "    print(f\"ROUGE-L: {result['rouge-l']}\")\n",
    "    print()\n"
   ]
  },
  {
   "cell_type": "code",
   "execution_count": null,
   "metadata": {},
   "outputs": [],
   "source": []
  }
 ],
 "metadata": {
  "kernelspec": {
   "display_name": ".venv",
   "language": "python",
   "name": "python3"
  },
  "language_info": {
   "codemirror_mode": {
    "name": "ipython",
    "version": 3
   },
   "file_extension": ".py",
   "mimetype": "text/x-python",
   "name": "python",
   "nbconvert_exporter": "python",
   "pygments_lexer": "ipython3",
   "version": "3.11.9"
  }
 },
 "nbformat": 4,
 "nbformat_minor": 2
}
